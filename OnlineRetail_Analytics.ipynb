{
 "cells": [
  {
   "cell_type": "code",
   "execution_count": 3,
   "metadata": {},
   "outputs": [],
   "source": [
    "import numpy as np\n",
    "import pandas as pd\n",
    "import seaborn as sns\n",
    "import matplotlib.pyplot as plt\n",
    "import os"
   ]
  },
  {
   "cell_type": "code",
   "execution_count": 131,
   "metadata": {
    "scrolled": false
   },
   "outputs": [],
   "source": [
    "df = pd.read_excel(\"C:/Users/Shreha Jalan/Desktop/G4G_codes/EDA_dataset/Online Retail.xlsx\")"
   ]
  },
  {
   "cell_type": "code",
   "execution_count": 133,
   "metadata": {
    "scrolled": true
   },
   "outputs": [],
   "source": [
    "df= df[['CustomerID','InvoiceNo','StockCode','Quantity','UnitPrice','Description','InvoiceDate','Country']]"
   ]
  },
  {
   "cell_type": "code",
   "execution_count": 22,
   "metadata": {},
   "outputs": [
    {
     "data": {
      "text/html": [
       "<div>\n",
       "<style scoped>\n",
       "    .dataframe tbody tr th:only-of-type {\n",
       "        vertical-align: middle;\n",
       "    }\n",
       "\n",
       "    .dataframe tbody tr th {\n",
       "        vertical-align: top;\n",
       "    }\n",
       "\n",
       "    .dataframe thead th {\n",
       "        text-align: right;\n",
       "    }\n",
       "</style>\n",
       "<table border=\"1\" class=\"dataframe\">\n",
       "  <thead>\n",
       "    <tr style=\"text-align: right;\">\n",
       "      <th></th>\n",
       "      <th>CustomerID</th>\n",
       "      <th>InvoiceNo</th>\n",
       "      <th>StockCode</th>\n",
       "      <th>Quantity</th>\n",
       "      <th>UnitPrice</th>\n",
       "      <th>Description</th>\n",
       "      <th>InvoiceDate</th>\n",
       "      <th>Country</th>\n",
       "    </tr>\n",
       "  </thead>\n",
       "  <tbody>\n",
       "    <tr>\n",
       "      <th>0</th>\n",
       "      <td>17850.0</td>\n",
       "      <td>536365</td>\n",
       "      <td>85123A</td>\n",
       "      <td>6</td>\n",
       "      <td>2.55</td>\n",
       "      <td>WHITE HANGING HEART T-LIGHT HOLDER</td>\n",
       "      <td>2010-12-01 08:26:00</td>\n",
       "      <td>United Kingdom</td>\n",
       "    </tr>\n",
       "    <tr>\n",
       "      <th>1</th>\n",
       "      <td>17850.0</td>\n",
       "      <td>536365</td>\n",
       "      <td>71053</td>\n",
       "      <td>6</td>\n",
       "      <td>3.39</td>\n",
       "      <td>WHITE METAL LANTERN</td>\n",
       "      <td>2010-12-01 08:26:00</td>\n",
       "      <td>United Kingdom</td>\n",
       "    </tr>\n",
       "    <tr>\n",
       "      <th>2</th>\n",
       "      <td>17850.0</td>\n",
       "      <td>536365</td>\n",
       "      <td>84406B</td>\n",
       "      <td>8</td>\n",
       "      <td>2.75</td>\n",
       "      <td>CREAM CUPID HEARTS COAT HANGER</td>\n",
       "      <td>2010-12-01 08:26:00</td>\n",
       "      <td>United Kingdom</td>\n",
       "    </tr>\n",
       "    <tr>\n",
       "      <th>3</th>\n",
       "      <td>17850.0</td>\n",
       "      <td>536365</td>\n",
       "      <td>84029G</td>\n",
       "      <td>6</td>\n",
       "      <td>3.39</td>\n",
       "      <td>KNITTED UNION FLAG HOT WATER BOTTLE</td>\n",
       "      <td>2010-12-01 08:26:00</td>\n",
       "      <td>United Kingdom</td>\n",
       "    </tr>\n",
       "    <tr>\n",
       "      <th>4</th>\n",
       "      <td>17850.0</td>\n",
       "      <td>536365</td>\n",
       "      <td>84029E</td>\n",
       "      <td>6</td>\n",
       "      <td>3.39</td>\n",
       "      <td>RED WOOLLY HOTTIE WHITE HEART.</td>\n",
       "      <td>2010-12-01 08:26:00</td>\n",
       "      <td>United Kingdom</td>\n",
       "    </tr>\n",
       "  </tbody>\n",
       "</table>\n",
       "</div>"
      ],
      "text/plain": [
       "   CustomerID InvoiceNo StockCode  Quantity  UnitPrice  \\\n",
       "0     17850.0    536365    85123A         6       2.55   \n",
       "1     17850.0    536365     71053         6       3.39   \n",
       "2     17850.0    536365    84406B         8       2.75   \n",
       "3     17850.0    536365    84029G         6       3.39   \n",
       "4     17850.0    536365    84029E         6       3.39   \n",
       "\n",
       "                           Description         InvoiceDate         Country  \n",
       "0   WHITE HANGING HEART T-LIGHT HOLDER 2010-12-01 08:26:00  United Kingdom  \n",
       "1                  WHITE METAL LANTERN 2010-12-01 08:26:00  United Kingdom  \n",
       "2       CREAM CUPID HEARTS COAT HANGER 2010-12-01 08:26:00  United Kingdom  \n",
       "3  KNITTED UNION FLAG HOT WATER BOTTLE 2010-12-01 08:26:00  United Kingdom  \n",
       "4       RED WOOLLY HOTTIE WHITE HEART. 2010-12-01 08:26:00  United Kingdom  "
      ]
     },
     "execution_count": 22,
     "metadata": {},
     "output_type": "execute_result"
    }
   ],
   "source": [
    "df.head()"
   ]
  },
  {
   "cell_type": "code",
   "execution_count": 23,
   "metadata": {},
   "outputs": [
    {
     "data": {
      "text/html": [
       "<div>\n",
       "<style scoped>\n",
       "    .dataframe tbody tr th:only-of-type {\n",
       "        vertical-align: middle;\n",
       "    }\n",
       "\n",
       "    .dataframe tbody tr th {\n",
       "        vertical-align: top;\n",
       "    }\n",
       "\n",
       "    .dataframe thead th {\n",
       "        text-align: right;\n",
       "    }\n",
       "</style>\n",
       "<table border=\"1\" class=\"dataframe\">\n",
       "  <thead>\n",
       "    <tr style=\"text-align: right;\">\n",
       "      <th></th>\n",
       "      <th>CustomerID</th>\n",
       "      <th>InvoiceNo</th>\n",
       "      <th>StockCode</th>\n",
       "      <th>Quantity</th>\n",
       "      <th>UnitPrice</th>\n",
       "      <th>Description</th>\n",
       "      <th>InvoiceDate</th>\n",
       "      <th>Country</th>\n",
       "    </tr>\n",
       "  </thead>\n",
       "  <tbody>\n",
       "    <tr>\n",
       "      <th>0</th>\n",
       "      <td>False</td>\n",
       "      <td>False</td>\n",
       "      <td>False</td>\n",
       "      <td>False</td>\n",
       "      <td>False</td>\n",
       "      <td>False</td>\n",
       "      <td>False</td>\n",
       "      <td>False</td>\n",
       "    </tr>\n",
       "    <tr>\n",
       "      <th>1</th>\n",
       "      <td>False</td>\n",
       "      <td>False</td>\n",
       "      <td>False</td>\n",
       "      <td>False</td>\n",
       "      <td>False</td>\n",
       "      <td>False</td>\n",
       "      <td>False</td>\n",
       "      <td>False</td>\n",
       "    </tr>\n",
       "    <tr>\n",
       "      <th>2</th>\n",
       "      <td>False</td>\n",
       "      <td>False</td>\n",
       "      <td>False</td>\n",
       "      <td>False</td>\n",
       "      <td>False</td>\n",
       "      <td>False</td>\n",
       "      <td>False</td>\n",
       "      <td>False</td>\n",
       "    </tr>\n",
       "    <tr>\n",
       "      <th>3</th>\n",
       "      <td>False</td>\n",
       "      <td>False</td>\n",
       "      <td>False</td>\n",
       "      <td>False</td>\n",
       "      <td>False</td>\n",
       "      <td>False</td>\n",
       "      <td>False</td>\n",
       "      <td>False</td>\n",
       "    </tr>\n",
       "    <tr>\n",
       "      <th>4</th>\n",
       "      <td>False</td>\n",
       "      <td>False</td>\n",
       "      <td>False</td>\n",
       "      <td>False</td>\n",
       "      <td>False</td>\n",
       "      <td>False</td>\n",
       "      <td>False</td>\n",
       "      <td>False</td>\n",
       "    </tr>\n",
       "  </tbody>\n",
       "</table>\n",
       "</div>"
      ],
      "text/plain": [
       "   CustomerID  InvoiceNo  StockCode  Quantity  UnitPrice  Description  \\\n",
       "0       False      False      False     False      False        False   \n",
       "1       False      False      False     False      False        False   \n",
       "2       False      False      False     False      False        False   \n",
       "3       False      False      False     False      False        False   \n",
       "4       False      False      False     False      False        False   \n",
       "\n",
       "   InvoiceDate  Country  \n",
       "0        False    False  \n",
       "1        False    False  \n",
       "2        False    False  \n",
       "3        False    False  \n",
       "4        False    False  "
      ]
     },
     "execution_count": 23,
     "metadata": {},
     "output_type": "execute_result"
    }
   ],
   "source": [
    "df.isnull().head()\n"
   ]
  },
  {
   "cell_type": "code",
   "execution_count": 24,
   "metadata": {},
   "outputs": [
    {
     "data": {
      "text/plain": [
       "CustomerID     135080\n",
       "InvoiceNo           0\n",
       "StockCode           0\n",
       "Quantity            0\n",
       "UnitPrice           0\n",
       "Description      1454\n",
       "InvoiceDate         0\n",
       "Country             0\n",
       "dtype: int64"
      ]
     },
     "execution_count": 24,
     "metadata": {},
     "output_type": "execute_result"
    }
   ],
   "source": [
    "df.isnull().sum()"
   ]
  },
  {
   "cell_type": "code",
   "execution_count": 25,
   "metadata": {},
   "outputs": [
    {
     "data": {
      "text/plain": [
       "array(['United Kingdom', 'France', 'Australia', 'Netherlands', 'Germany',\n",
       "       'Norway', 'EIRE', 'Switzerland', 'Spain', 'Poland', 'Portugal',\n",
       "       'Italy', 'Belgium', 'Lithuania', 'Japan', 'Iceland',\n",
       "       'Channel Islands', 'Denmark', 'Cyprus', 'Sweden', 'Austria',\n",
       "       'Israel', 'Finland', 'Bahrain', 'Greece', 'Hong Kong', 'Singapore',\n",
       "       'Lebanon', 'United Arab Emirates', 'Saudi Arabia',\n",
       "       'Czech Republic', 'Canada', 'Unspecified', 'Brazil', 'USA',\n",
       "       'European Community', 'Malta', 'RSA'], dtype=object)"
      ]
     },
     "execution_count": 25,
     "metadata": {},
     "output_type": "execute_result"
    }
   ],
   "source": [
    "df.Country.unique()"
   ]
  },
  {
   "cell_type": "code",
   "execution_count": 27,
   "metadata": {},
   "outputs": [
    {
     "data": {
      "text/plain": [
       "(38,)"
      ]
     },
     "execution_count": 27,
     "metadata": {},
     "output_type": "execute_result"
    }
   ],
   "source": [
    "df.Country.unique().shape"
   ]
  },
  {
   "cell_type": "code",
   "execution_count": 28,
   "metadata": {},
   "outputs": [
    {
     "data": {
      "text/plain": [
       "38"
      ]
     },
     "execution_count": 28,
     "metadata": {},
     "output_type": "execute_result"
    }
   ],
   "source": [
    "df.Country.unique().size"
   ]
  },
  {
   "cell_type": "code",
   "execution_count": null,
   "metadata": {},
   "outputs": [],
   "source": [
    "#Business type\n",
    "#The given dataset is of online retail business spread across 38 countries"
   ]
  },
  {
   "cell_type": "code",
   "execution_count": 134,
   "metadata": {},
   "outputs": [],
   "source": [
    "#feature engineering is done creating new column of total amount of sales\n",
    "TotalAmount = df['Quantity']*df['UnitPrice']\n",
    "df.insert(loc = 5,column = 'TotalAmount', value = TotalAmount)"
   ]
  },
  {
   "cell_type": "code",
   "execution_count": 135,
   "metadata": {},
   "outputs": [],
   "source": [
    "new_df = df"
   ]
  },
  {
   "cell_type": "code",
   "execution_count": 45,
   "metadata": {},
   "outputs": [
    {
     "data": {
      "text/html": [
       "<div>\n",
       "<style scoped>\n",
       "    .dataframe tbody tr th:only-of-type {\n",
       "        vertical-align: middle;\n",
       "    }\n",
       "\n",
       "    .dataframe tbody tr th {\n",
       "        vertical-align: top;\n",
       "    }\n",
       "\n",
       "    .dataframe thead th {\n",
       "        text-align: right;\n",
       "    }\n",
       "</style>\n",
       "<table border=\"1\" class=\"dataframe\">\n",
       "  <thead>\n",
       "    <tr style=\"text-align: right;\">\n",
       "      <th></th>\n",
       "      <th>CustomerID</th>\n",
       "      <th>InvoiceNo</th>\n",
       "      <th>StockCode</th>\n",
       "      <th>Quantity</th>\n",
       "      <th>UnitPrice</th>\n",
       "      <th>TotalAmount</th>\n",
       "      <th>Description</th>\n",
       "      <th>InvoiceDate</th>\n",
       "      <th>Country</th>\n",
       "    </tr>\n",
       "  </thead>\n",
       "  <tbody>\n",
       "    <tr>\n",
       "      <th>0</th>\n",
       "      <td>17850.0</td>\n",
       "      <td>536365</td>\n",
       "      <td>85123A</td>\n",
       "      <td>6</td>\n",
       "      <td>2.55</td>\n",
       "      <td>15.30</td>\n",
       "      <td>WHITE HANGING HEART T-LIGHT HOLDER</td>\n",
       "      <td>2010-12-01 08:26:00</td>\n",
       "      <td>United Kingdom</td>\n",
       "    </tr>\n",
       "    <tr>\n",
       "      <th>1</th>\n",
       "      <td>17850.0</td>\n",
       "      <td>536365</td>\n",
       "      <td>71053</td>\n",
       "      <td>6</td>\n",
       "      <td>3.39</td>\n",
       "      <td>20.34</td>\n",
       "      <td>WHITE METAL LANTERN</td>\n",
       "      <td>2010-12-01 08:26:00</td>\n",
       "      <td>United Kingdom</td>\n",
       "    </tr>\n",
       "    <tr>\n",
       "      <th>2</th>\n",
       "      <td>17850.0</td>\n",
       "      <td>536365</td>\n",
       "      <td>84406B</td>\n",
       "      <td>8</td>\n",
       "      <td>2.75</td>\n",
       "      <td>22.00</td>\n",
       "      <td>CREAM CUPID HEARTS COAT HANGER</td>\n",
       "      <td>2010-12-01 08:26:00</td>\n",
       "      <td>United Kingdom</td>\n",
       "    </tr>\n",
       "    <tr>\n",
       "      <th>3</th>\n",
       "      <td>17850.0</td>\n",
       "      <td>536365</td>\n",
       "      <td>84029G</td>\n",
       "      <td>6</td>\n",
       "      <td>3.39</td>\n",
       "      <td>20.34</td>\n",
       "      <td>KNITTED UNION FLAG HOT WATER BOTTLE</td>\n",
       "      <td>2010-12-01 08:26:00</td>\n",
       "      <td>United Kingdom</td>\n",
       "    </tr>\n",
       "    <tr>\n",
       "      <th>4</th>\n",
       "      <td>17850.0</td>\n",
       "      <td>536365</td>\n",
       "      <td>84029E</td>\n",
       "      <td>6</td>\n",
       "      <td>3.39</td>\n",
       "      <td>20.34</td>\n",
       "      <td>RED WOOLLY HOTTIE WHITE HEART.</td>\n",
       "      <td>2010-12-01 08:26:00</td>\n",
       "      <td>United Kingdom</td>\n",
       "    </tr>\n",
       "  </tbody>\n",
       "</table>\n",
       "</div>"
      ],
      "text/plain": [
       "   CustomerID InvoiceNo StockCode  Quantity  UnitPrice  TotalAmount  \\\n",
       "0     17850.0    536365    85123A         6       2.55        15.30   \n",
       "1     17850.0    536365     71053         6       3.39        20.34   \n",
       "2     17850.0    536365    84406B         8       2.75        22.00   \n",
       "3     17850.0    536365    84029G         6       3.39        20.34   \n",
       "4     17850.0    536365    84029E         6       3.39        20.34   \n",
       "\n",
       "                           Description         InvoiceDate         Country  \n",
       "0   WHITE HANGING HEART T-LIGHT HOLDER 2010-12-01 08:26:00  United Kingdom  \n",
       "1                  WHITE METAL LANTERN 2010-12-01 08:26:00  United Kingdom  \n",
       "2       CREAM CUPID HEARTS COAT HANGER 2010-12-01 08:26:00  United Kingdom  \n",
       "3  KNITTED UNION FLAG HOT WATER BOTTLE 2010-12-01 08:26:00  United Kingdom  \n",
       "4       RED WOOLLY HOTTIE WHITE HEART. 2010-12-01 08:26:00  United Kingdom  "
      ]
     },
     "execution_count": 45,
     "metadata": {},
     "output_type": "execute_result"
    }
   ],
   "source": [
    "new_df.head()\n"
   ]
  },
  {
   "cell_type": "code",
   "execution_count": 136,
   "metadata": {},
   "outputs": [],
   "source": [
    "#understanding the sales country wise\n",
    "CountryPrice = new_df.groupby('Country')['Quantity'].sum().sort_values(ascending = False)"
   ]
  },
  {
   "cell_type": "code",
   "execution_count": 137,
   "metadata": {},
   "outputs": [
    {
     "data": {
      "text/plain": [
       "Country\n",
       "United Kingdom    4263829\n",
       "Netherlands        200128\n",
       "EIRE               142637\n",
       "Germany            117448\n",
       "France             110480\n",
       "Name: Quantity, dtype: int64"
      ]
     },
     "execution_count": 137,
     "metadata": {},
     "output_type": "execute_result"
    }
   ],
   "source": [
    "CountryPrice.head()"
   ]
  },
  {
   "cell_type": "code",
   "execution_count": 138,
   "metadata": {},
   "outputs": [
    {
     "data": {
      "text/plain": [
       "<matplotlib.axes._subplots.AxesSubplot at 0xfdae406f98>"
      ]
     },
     "execution_count": 138,
     "metadata": {},
     "output_type": "execute_result"
    },
    {
     "data": {
      "image/png": "[encoded data removed]",
      "text/plain": [
       "<Figure size 432x288 with 1 Axes>"
      ]
     },
     "metadata": {
      "needs_background": "light"
     },
     "output_type": "display_data"
    }
   ],
   "source": [
    "#Checking top 5 countries with higher no. of purchase\n",
    "CountryPrice[:5].plot(kind = 'bar')"
   ]
  },
  {
   "cell_type": "code",
   "execution_count": 139,
   "metadata": {
    "scrolled": true
   },
   "outputs": [
    {
     "data": {
      "text/plain": [
       "<matplotlib.axes._subplots.AxesSubplot at 0xfdb6daf390>"
      ]
     },
     "execution_count": 139,
     "metadata": {},
     "output_type": "execute_result"
    },
    {
     "data": {
      "image/png": "[encoded data removed]",
      "text/plain": [
       "<Figure size 432x288 with 1 Axes>"
      ]
     },
     "metadata": {
      "needs_background": "light"
     },
     "output_type": "display_data"
    }
   ],
   "source": [
    "#Checking with top 5 countries with least no. of purchase\n",
    "CountryPrice[-5:].plot(kind = 'bar')"
   ]
  },
  {
   "cell_type": "code",
   "execution_count": 140,
   "metadata": {},
   "outputs": [
    {
     "data": {
      "text/html": [
       "<div>\n",
       "<style scoped>\n",
       "    .dataframe tbody tr th:only-of-type {\n",
       "        vertical-align: middle;\n",
       "    }\n",
       "\n",
       "    .dataframe tbody tr th {\n",
       "        vertical-align: top;\n",
       "    }\n",
       "\n",
       "    .dataframe thead th {\n",
       "        text-align: right;\n",
       "    }\n",
       "</style>\n",
       "<table border=\"1\" class=\"dataframe\">\n",
       "  <thead>\n",
       "    <tr style=\"text-align: right;\">\n",
       "      <th></th>\n",
       "      <th>CustomerID</th>\n",
       "      <th>InvoiceNo</th>\n",
       "      <th>StockCode</th>\n",
       "      <th>Quantity</th>\n",
       "      <th>UnitPrice</th>\n",
       "      <th>TotalAmount</th>\n",
       "      <th>Description</th>\n",
       "      <th>InvoiceDate</th>\n",
       "      <th>Country</th>\n",
       "      <th>Year</th>\n",
       "    </tr>\n",
       "  </thead>\n",
       "  <tbody>\n",
       "    <tr>\n",
       "      <th>0</th>\n",
       "      <td>17850.0</td>\n",
       "      <td>536365</td>\n",
       "      <td>85123A</td>\n",
       "      <td>6</td>\n",
       "      <td>2.55</td>\n",
       "      <td>15.30</td>\n",
       "      <td>WHITE HANGING HEART T-LIGHT HOLDER</td>\n",
       "      <td>2010-12-01 08:26:00</td>\n",
       "      <td>United Kingdom</td>\n",
       "      <td>2010</td>\n",
       "    </tr>\n",
       "    <tr>\n",
       "      <th>1</th>\n",
       "      <td>17850.0</td>\n",
       "      <td>536365</td>\n",
       "      <td>71053</td>\n",
       "      <td>6</td>\n",
       "      <td>3.39</td>\n",
       "      <td>20.34</td>\n",
       "      <td>WHITE METAL LANTERN</td>\n",
       "      <td>2010-12-01 08:26:00</td>\n",
       "      <td>United Kingdom</td>\n",
       "      <td>2010</td>\n",
       "    </tr>\n",
       "    <tr>\n",
       "      <th>2</th>\n",
       "      <td>17850.0</td>\n",
       "      <td>536365</td>\n",
       "      <td>84406B</td>\n",
       "      <td>8</td>\n",
       "      <td>2.75</td>\n",
       "      <td>22.00</td>\n",
       "      <td>CREAM CUPID HEARTS COAT HANGER</td>\n",
       "      <td>2010-12-01 08:26:00</td>\n",
       "      <td>United Kingdom</td>\n",
       "      <td>2010</td>\n",
       "    </tr>\n",
       "    <tr>\n",
       "      <th>3</th>\n",
       "      <td>17850.0</td>\n",
       "      <td>536365</td>\n",
       "      <td>84029G</td>\n",
       "      <td>6</td>\n",
       "      <td>3.39</td>\n",
       "      <td>20.34</td>\n",
       "      <td>KNITTED UNION FLAG HOT WATER BOTTLE</td>\n",
       "      <td>2010-12-01 08:26:00</td>\n",
       "      <td>United Kingdom</td>\n",
       "      <td>2010</td>\n",
       "    </tr>\n",
       "    <tr>\n",
       "      <th>4</th>\n",
       "      <td>17850.0</td>\n",
       "      <td>536365</td>\n",
       "      <td>84029E</td>\n",
       "      <td>6</td>\n",
       "      <td>3.39</td>\n",
       "      <td>20.34</td>\n",
       "      <td>RED WOOLLY HOTTIE WHITE HEART.</td>\n",
       "      <td>2010-12-01 08:26:00</td>\n",
       "      <td>United Kingdom</td>\n",
       "      <td>2010</td>\n",
       "    </tr>\n",
       "  </tbody>\n",
       "</table>\n",
       "</div>"
      ],
      "text/plain": [
       "   CustomerID InvoiceNo StockCode  Quantity  UnitPrice  TotalAmount  \\\n",
       "0     17850.0    536365    85123A         6       2.55        15.30   \n",
       "1     17850.0    536365     71053         6       3.39        20.34   \n",
       "2     17850.0    536365    84406B         8       2.75        22.00   \n",
       "3     17850.0    536365    84029G         6       3.39        20.34   \n",
       "4     17850.0    536365    84029E         6       3.39        20.34   \n",
       "\n",
       "                           Description         InvoiceDate         Country  \\\n",
       "0   WHITE HANGING HEART T-LIGHT HOLDER 2010-12-01 08:26:00  United Kingdom   \n",
       "1                  WHITE METAL LANTERN 2010-12-01 08:26:00  United Kingdom   \n",
       "2       CREAM CUPID HEARTS COAT HANGER 2010-12-01 08:26:00  United Kingdom   \n",
       "3  KNITTED UNION FLAG HOT WATER BOTTLE 2010-12-01 08:26:00  United Kingdom   \n",
       "4       RED WOOLLY HOTTIE WHITE HEART. 2010-12-01 08:26:00  United Kingdom   \n",
       "\n",
       "   Year  \n",
       "0  2010  \n",
       "1  2010  \n",
       "2  2010  \n",
       "3  2010  \n",
       "4  2010  "
      ]
     },
     "execution_count": 140,
     "metadata": {},
     "output_type": "execute_result"
    }
   ],
   "source": [
    "#Adding year feature to the dataset\n",
    "TimeSet = new_df['InvoiceDate'].dt.year\n",
    "TimeSet.head()\n",
    "new_df['Year']  = TimeSet\n",
    "new_df.head()"
   ]
  },
  {
   "cell_type": "code",
   "execution_count": 141,
   "metadata": {},
   "outputs": [
    {
     "data": {
      "text/plain": [
       "<matplotlib.axes._subplots.AxesSubplot at 0xfdb6daf128>"
      ]
     },
     "execution_count": 141,
     "metadata": {},
     "output_type": "execute_result"
    },
    {
     "data": {
      "image/png": "[encoded data removed]",
      "text/plain": [
       "<Figure size 432x288 with 1 Axes>"
      ]
     },
     "metadata": {
      "needs_background": "light"
     },
     "output_type": "display_data"
    }
   ],
   "source": [
    "#Graphical representation of total sales in 2011 and 2010 to get a picture of comparison\n",
    "new_df.groupby('Year')['TotalAmount'].sum().plot(kind = 'bar')"
   ]
  },
  {
   "cell_type": "code",
   "execution_count": 142,
   "metadata": {},
   "outputs": [],
   "source": [
    "#Adding month feature to the dataset\n",
    "new_df['Month'] = new_df['InvoiceDate'].dt.month"
   ]
  },
  {
   "cell_type": "code",
   "execution_count": 143,
   "metadata": {},
   "outputs": [
    {
     "data": {
      "text/html": [
       "<div>\n",
       "<style scoped>\n",
       "    .dataframe tbody tr th:only-of-type {\n",
       "        vertical-align: middle;\n",
       "    }\n",
       "\n",
       "    .dataframe tbody tr th {\n",
       "        vertical-align: top;\n",
       "    }\n",
       "\n",
       "    .dataframe thead th {\n",
       "        text-align: right;\n",
       "    }\n",
       "</style>\n",
       "<table border=\"1\" class=\"dataframe\">\n",
       "  <thead>\n",
       "    <tr style=\"text-align: right;\">\n",
       "      <th></th>\n",
       "      <th>CustomerID</th>\n",
       "      <th>InvoiceNo</th>\n",
       "      <th>StockCode</th>\n",
       "      <th>Quantity</th>\n",
       "      <th>UnitPrice</th>\n",
       "      <th>TotalAmount</th>\n",
       "      <th>Description</th>\n",
       "      <th>InvoiceDate</th>\n",
       "      <th>Country</th>\n",
       "      <th>Year</th>\n",
       "      <th>Month</th>\n",
       "    </tr>\n",
       "  </thead>\n",
       "  <tbody>\n",
       "    <tr>\n",
       "      <th>0</th>\n",
       "      <td>17850.0</td>\n",
       "      <td>536365</td>\n",
       "      <td>85123A</td>\n",
       "      <td>6</td>\n",
       "      <td>2.55</td>\n",
       "      <td>15.30</td>\n",
       "      <td>WHITE HANGING HEART T-LIGHT HOLDER</td>\n",
       "      <td>2010-12-01 08:26:00</td>\n",
       "      <td>United Kingdom</td>\n",
       "      <td>2010</td>\n",
       "      <td>12</td>\n",
       "    </tr>\n",
       "    <tr>\n",
       "      <th>1</th>\n",
       "      <td>17850.0</td>\n",
       "      <td>536365</td>\n",
       "      <td>71053</td>\n",
       "      <td>6</td>\n",
       "      <td>3.39</td>\n",
       "      <td>20.34</td>\n",
       "      <td>WHITE METAL LANTERN</td>\n",
       "      <td>2010-12-01 08:26:00</td>\n",
       "      <td>United Kingdom</td>\n",
       "      <td>2010</td>\n",
       "      <td>12</td>\n",
       "    </tr>\n",
       "    <tr>\n",
       "      <th>2</th>\n",
       "      <td>17850.0</td>\n",
       "      <td>536365</td>\n",
       "      <td>84406B</td>\n",
       "      <td>8</td>\n",
       "      <td>2.75</td>\n",
       "      <td>22.00</td>\n",
       "      <td>CREAM CUPID HEARTS COAT HANGER</td>\n",
       "      <td>2010-12-01 08:26:00</td>\n",
       "      <td>United Kingdom</td>\n",
       "      <td>2010</td>\n",
       "      <td>12</td>\n",
       "    </tr>\n",
       "    <tr>\n",
       "      <th>3</th>\n",
       "      <td>17850.0</td>\n",
       "      <td>536365</td>\n",
       "      <td>84029G</td>\n",
       "      <td>6</td>\n",
       "      <td>3.39</td>\n",
       "      <td>20.34</td>\n",
       "      <td>KNITTED UNION FLAG HOT WATER BOTTLE</td>\n",
       "      <td>2010-12-01 08:26:00</td>\n",
       "      <td>United Kingdom</td>\n",
       "      <td>2010</td>\n",
       "      <td>12</td>\n",
       "    </tr>\n",
       "    <tr>\n",
       "      <th>4</th>\n",
       "      <td>17850.0</td>\n",
       "      <td>536365</td>\n",
       "      <td>84029E</td>\n",
       "      <td>6</td>\n",
       "      <td>3.39</td>\n",
       "      <td>20.34</td>\n",
       "      <td>RED WOOLLY HOTTIE WHITE HEART.</td>\n",
       "      <td>2010-12-01 08:26:00</td>\n",
       "      <td>United Kingdom</td>\n",
       "      <td>2010</td>\n",
       "      <td>12</td>\n",
       "    </tr>\n",
       "  </tbody>\n",
       "</table>\n",
       "</div>"
      ],
      "text/plain": [
       "   CustomerID InvoiceNo StockCode  Quantity  UnitPrice  TotalAmount  \\\n",
       "0     17850.0    536365    85123A         6       2.55        15.30   \n",
       "1     17850.0    536365     71053         6       3.39        20.34   \n",
       "2     17850.0    536365    84406B         8       2.75        22.00   \n",
       "3     17850.0    536365    84029G         6       3.39        20.34   \n",
       "4     17850.0    536365    84029E         6       3.39        20.34   \n",
       "\n",
       "                           Description         InvoiceDate         Country  \\\n",
       "0   WHITE HANGING HEART T-LIGHT HOLDER 2010-12-01 08:26:00  United Kingdom   \n",
       "1                  WHITE METAL LANTERN 2010-12-01 08:26:00  United Kingdom   \n",
       "2       CREAM CUPID HEARTS COAT HANGER 2010-12-01 08:26:00  United Kingdom   \n",
       "3  KNITTED UNION FLAG HOT WATER BOTTLE 2010-12-01 08:26:00  United Kingdom   \n",
       "4       RED WOOLLY HOTTIE WHITE HEART. 2010-12-01 08:26:00  United Kingdom   \n",
       "\n",
       "   Year  Month  \n",
       "0  2010     12  \n",
       "1  2010     12  \n",
       "2  2010     12  \n",
       "3  2010     12  \n",
       "4  2010     12  "
      ]
     },
     "execution_count": 143,
     "metadata": {},
     "output_type": "execute_result"
    }
   ],
   "source": [
    "new_df.head()"
   ]
  },
  {
   "cell_type": "code",
   "execution_count": 144,
   "metadata": {},
   "outputs": [
    {
     "data": {
      "text/plain": [
       "<matplotlib.axes._subplots.AxesSubplot at 0xfdb68249b0>"
      ]
     },
     "execution_count": 144,
     "metadata": {},
     "output_type": "execute_result"
    },
    {
     "data": {
      "image/png": "[encoded data removed]",
      "text/plain": [
       "<Figure size 432x288 with 1 Axes>"
      ]
     },
     "metadata": {
      "needs_background": "light"
     },
     "output_type": "display_data"
    }
   ],
   "source": [
    "#Plotting total sales done for different month of 2010 and 2011\n",
    "new_df.groupby(['Month','Year'])['TotalAmount'].sum().plot(kind ='bar', title = 'Sales month wise')"
   ]
  },
  {
   "cell_type": "code",
   "execution_count": 145,
   "metadata": {},
   "outputs": [],
   "source": [
    "#Checking why december 2011 has a drop in sales comparing to november 2011\n",
    "new_df2011 = new_df[(new_df['Year'] == 2011)]"
   ]
  },
  {
   "cell_type": "code",
   "execution_count": 146,
   "metadata": {},
   "outputs": [
    {
     "data": {
      "text/html": [
       "<div>\n",
       "<style scoped>\n",
       "    .dataframe tbody tr th:only-of-type {\n",
       "        vertical-align: middle;\n",
       "    }\n",
       "\n",
       "    .dataframe tbody tr th {\n",
       "        vertical-align: top;\n",
       "    }\n",
       "\n",
       "    .dataframe thead th {\n",
       "        text-align: right;\n",
       "    }\n",
       "</style>\n",
       "<table border=\"1\" class=\"dataframe\">\n",
       "  <thead>\n",
       "    <tr style=\"text-align: right;\">\n",
       "      <th></th>\n",
       "      <th>CustomerID</th>\n",
       "      <th>InvoiceNo</th>\n",
       "      <th>StockCode</th>\n",
       "      <th>Quantity</th>\n",
       "      <th>UnitPrice</th>\n",
       "      <th>TotalAmount</th>\n",
       "      <th>Description</th>\n",
       "      <th>InvoiceDate</th>\n",
       "      <th>Country</th>\n",
       "      <th>Year</th>\n",
       "      <th>Month</th>\n",
       "    </tr>\n",
       "  </thead>\n",
       "  <tbody>\n",
       "    <tr>\n",
       "      <th>42481</th>\n",
       "      <td>13313.0</td>\n",
       "      <td>539993</td>\n",
       "      <td>22386</td>\n",
       "      <td>10</td>\n",
       "      <td>1.95</td>\n",
       "      <td>19.5</td>\n",
       "      <td>JUMBO BAG PINK POLKADOT</td>\n",
       "      <td>2011-01-04 10:00:00</td>\n",
       "      <td>United Kingdom</td>\n",
       "      <td>2011</td>\n",
       "      <td>1</td>\n",
       "    </tr>\n",
       "    <tr>\n",
       "      <th>42482</th>\n",
       "      <td>13313.0</td>\n",
       "      <td>539993</td>\n",
       "      <td>21499</td>\n",
       "      <td>25</td>\n",
       "      <td>0.42</td>\n",
       "      <td>10.5</td>\n",
       "      <td>BLUE POLKADOT WRAP</td>\n",
       "      <td>2011-01-04 10:00:00</td>\n",
       "      <td>United Kingdom</td>\n",
       "      <td>2011</td>\n",
       "      <td>1</td>\n",
       "    </tr>\n",
       "    <tr>\n",
       "      <th>42483</th>\n",
       "      <td>13313.0</td>\n",
       "      <td>539993</td>\n",
       "      <td>21498</td>\n",
       "      <td>25</td>\n",
       "      <td>0.42</td>\n",
       "      <td>10.5</td>\n",
       "      <td>RED RETROSPOT WRAP</td>\n",
       "      <td>2011-01-04 10:00:00</td>\n",
       "      <td>United Kingdom</td>\n",
       "      <td>2011</td>\n",
       "      <td>1</td>\n",
       "    </tr>\n",
       "    <tr>\n",
       "      <th>42484</th>\n",
       "      <td>13313.0</td>\n",
       "      <td>539993</td>\n",
       "      <td>22379</td>\n",
       "      <td>5</td>\n",
       "      <td>2.10</td>\n",
       "      <td>10.5</td>\n",
       "      <td>RECYCLING BAG RETROSPOT</td>\n",
       "      <td>2011-01-04 10:00:00</td>\n",
       "      <td>United Kingdom</td>\n",
       "      <td>2011</td>\n",
       "      <td>1</td>\n",
       "    </tr>\n",
       "    <tr>\n",
       "      <th>42485</th>\n",
       "      <td>13313.0</td>\n",
       "      <td>539993</td>\n",
       "      <td>20718</td>\n",
       "      <td>10</td>\n",
       "      <td>1.25</td>\n",
       "      <td>12.5</td>\n",
       "      <td>RED RETROSPOT SHOPPER BAG</td>\n",
       "      <td>2011-01-04 10:00:00</td>\n",
       "      <td>United Kingdom</td>\n",
       "      <td>2011</td>\n",
       "      <td>1</td>\n",
       "    </tr>\n",
       "  </tbody>\n",
       "</table>\n",
       "</div>"
      ],
      "text/plain": [
       "       CustomerID InvoiceNo StockCode  Quantity  UnitPrice  TotalAmount  \\\n",
       "42481     13313.0    539993     22386        10       1.95         19.5   \n",
       "42482     13313.0    539993     21499        25       0.42         10.5   \n",
       "42483     13313.0    539993     21498        25       0.42         10.5   \n",
       "42484     13313.0    539993     22379         5       2.10         10.5   \n",
       "42485     13313.0    539993     20718        10       1.25         12.5   \n",
       "\n",
       "                     Description         InvoiceDate         Country  Year  \\\n",
       "42481    JUMBO BAG PINK POLKADOT 2011-01-04 10:00:00  United Kingdom  2011   \n",
       "42482         BLUE POLKADOT WRAP 2011-01-04 10:00:00  United Kingdom  2011   \n",
       "42483        RED RETROSPOT WRAP  2011-01-04 10:00:00  United Kingdom  2011   \n",
       "42484   RECYCLING BAG RETROSPOT  2011-01-04 10:00:00  United Kingdom  2011   \n",
       "42485  RED RETROSPOT SHOPPER BAG 2011-01-04 10:00:00  United Kingdom  2011   \n",
       "\n",
       "       Month  \n",
       "42481      1  \n",
       "42482      1  \n",
       "42483      1  \n",
       "42484      1  \n",
       "42485      1  "
      ]
     },
     "execution_count": 146,
     "metadata": {},
     "output_type": "execute_result"
    }
   ],
   "source": [
    "new_df2011.head()\n"
   ]
  },
  {
   "cell_type": "code",
   "execution_count": 147,
   "metadata": {},
   "outputs": [],
   "source": [
    "#Fetching the records for the month of Decemeber 2011\n",
    "new_df20111dec = new_df2011[(new_df2011['Month']) == 12]"
   ]
  },
  {
   "cell_type": "code",
   "execution_count": 148,
   "metadata": {},
   "outputs": [
    {
     "data": {
      "text/html": [
       "<div>\n",
       "<style scoped>\n",
       "    .dataframe tbody tr th:only-of-type {\n",
       "        vertical-align: middle;\n",
       "    }\n",
       "\n",
       "    .dataframe tbody tr th {\n",
       "        vertical-align: top;\n",
       "    }\n",
       "\n",
       "    .dataframe thead th {\n",
       "        text-align: right;\n",
       "    }\n",
       "</style>\n",
       "<table border=\"1\" class=\"dataframe\">\n",
       "  <thead>\n",
       "    <tr style=\"text-align: right;\">\n",
       "      <th></th>\n",
       "      <th>CustomerID</th>\n",
       "      <th>InvoiceNo</th>\n",
       "      <th>StockCode</th>\n",
       "      <th>Quantity</th>\n",
       "      <th>UnitPrice</th>\n",
       "      <th>TotalAmount</th>\n",
       "      <th>Description</th>\n",
       "      <th>InvoiceDate</th>\n",
       "      <th>Country</th>\n",
       "      <th>Year</th>\n",
       "      <th>Month</th>\n",
       "    </tr>\n",
       "  </thead>\n",
       "  <tbody>\n",
       "    <tr>\n",
       "      <th>516384</th>\n",
       "      <td>13853.0</td>\n",
       "      <td>C579889</td>\n",
       "      <td>23245</td>\n",
       "      <td>-8</td>\n",
       "      <td>4.15</td>\n",
       "      <td>-33.20</td>\n",
       "      <td>SET OF 3 REGENCY CAKE TINS</td>\n",
       "      <td>2011-12-01 08:12:00</td>\n",
       "      <td>United Kingdom</td>\n",
       "      <td>2011</td>\n",
       "      <td>12</td>\n",
       "    </tr>\n",
       "    <tr>\n",
       "      <th>516385</th>\n",
       "      <td>15197.0</td>\n",
       "      <td>C579890</td>\n",
       "      <td>84947</td>\n",
       "      <td>-1</td>\n",
       "      <td>1.25</td>\n",
       "      <td>-1.25</td>\n",
       "      <td>ANTIQUE SILVER TEA GLASS ENGRAVED</td>\n",
       "      <td>2011-12-01 08:14:00</td>\n",
       "      <td>United Kingdom</td>\n",
       "      <td>2011</td>\n",
       "      <td>12</td>\n",
       "    </tr>\n",
       "    <tr>\n",
       "      <th>516386</th>\n",
       "      <td>15197.0</td>\n",
       "      <td>C579890</td>\n",
       "      <td>23374</td>\n",
       "      <td>-1</td>\n",
       "      <td>0.82</td>\n",
       "      <td>-0.82</td>\n",
       "      <td>RED SPOT PAPER GIFT BAG</td>\n",
       "      <td>2011-12-01 08:14:00</td>\n",
       "      <td>United Kingdom</td>\n",
       "      <td>2011</td>\n",
       "      <td>12</td>\n",
       "    </tr>\n",
       "    <tr>\n",
       "      <th>516387</th>\n",
       "      <td>15197.0</td>\n",
       "      <td>C579890</td>\n",
       "      <td>84945</td>\n",
       "      <td>-2</td>\n",
       "      <td>0.85</td>\n",
       "      <td>-1.70</td>\n",
       "      <td>MULTI COLOUR SILVER T-LIGHT HOLDER</td>\n",
       "      <td>2011-12-01 08:14:00</td>\n",
       "      <td>United Kingdom</td>\n",
       "      <td>2011</td>\n",
       "      <td>12</td>\n",
       "    </tr>\n",
       "    <tr>\n",
       "      <th>516388</th>\n",
       "      <td>13644.0</td>\n",
       "      <td>C579891</td>\n",
       "      <td>23485</td>\n",
       "      <td>-1</td>\n",
       "      <td>25.00</td>\n",
       "      <td>-25.00</td>\n",
       "      <td>BOTANICAL GARDENS WALL CLOCK</td>\n",
       "      <td>2011-12-01 08:18:00</td>\n",
       "      <td>United Kingdom</td>\n",
       "      <td>2011</td>\n",
       "      <td>12</td>\n",
       "    </tr>\n",
       "  </tbody>\n",
       "</table>\n",
       "</div>"
      ],
      "text/plain": [
       "        CustomerID InvoiceNo StockCode  Quantity  UnitPrice  TotalAmount  \\\n",
       "516384     13853.0   C579889     23245        -8       4.15       -33.20   \n",
       "516385     15197.0   C579890     84947        -1       1.25        -1.25   \n",
       "516386     15197.0   C579890     23374        -1       0.82        -0.82   \n",
       "516387     15197.0   C579890     84945        -2       0.85        -1.70   \n",
       "516388     13644.0   C579891     23485        -1      25.00       -25.00   \n",
       "\n",
       "                               Description         InvoiceDate  \\\n",
       "516384          SET OF 3 REGENCY CAKE TINS 2011-12-01 08:12:00   \n",
       "516385   ANTIQUE SILVER TEA GLASS ENGRAVED 2011-12-01 08:14:00   \n",
       "516386             RED SPOT PAPER GIFT BAG 2011-12-01 08:14:00   \n",
       "516387  MULTI COLOUR SILVER T-LIGHT HOLDER 2011-12-01 08:14:00   \n",
       "516388       BOTANICAL GARDENS WALL CLOCK  2011-12-01 08:18:00   \n",
       "\n",
       "               Country  Year  Month  \n",
       "516384  United Kingdom  2011     12  \n",
       "516385  United Kingdom  2011     12  \n",
       "516386  United Kingdom  2011     12  \n",
       "516387  United Kingdom  2011     12  \n",
       "516388  United Kingdom  2011     12  "
      ]
     },
     "execution_count": 148,
     "metadata": {},
     "output_type": "execute_result"
    }
   ],
   "source": [
    "new_df20111dec.head()"
   ]
  },
  {
   "cell_type": "code",
   "execution_count": 149,
   "metadata": {},
   "outputs": [
    {
     "data": {
      "text/plain": [
       "CustomerID     17661\n",
       "InvoiceNo      25525\n",
       "StockCode      25525\n",
       "Quantity       25525\n",
       "UnitPrice      25525\n",
       "TotalAmount    25525\n",
       "Description    25510\n",
       "InvoiceDate    25525\n",
       "Country        25525\n",
       "Year           25525\n",
       "Month          25525\n",
       "dtype: int64"
      ]
     },
     "execution_count": 149,
     "metadata": {},
     "output_type": "execute_result"
    }
   ],
   "source": [
    "new_df20111dec.count()"
   ]
  },
  {
   "cell_type": "code",
   "execution_count": 150,
   "metadata": {},
   "outputs": [
    {
     "data": {
      "text/plain": [
       "array([datetime.date(2011, 12, 1), datetime.date(2011, 12, 2),\n",
       "       datetime.date(2011, 12, 4), datetime.date(2011, 12, 5),\n",
       "       datetime.date(2011, 12, 6), datetime.date(2011, 12, 7),\n",
       "       datetime.date(2011, 12, 8), datetime.date(2011, 12, 9)],\n",
       "      dtype=object)"
      ]
     },
     "execution_count": 150,
     "metadata": {},
     "output_type": "execute_result"
    }
   ],
   "source": [
    "new_df20111dec = new_df20111dec['InvoiceDate'].dt.date.unique()\n",
    "new_df20111dec"
   ]
  },
  {
   "cell_type": "code",
   "execution_count": null,
   "metadata": {},
   "outputs": [],
   "source": [
    "#Business Performance\n",
    "#-We have sales for only december month in 2010 and sales for all months in 2011.\n",
    "#That is why we found sales was much lesser in year 2010.\n",
    "#-Business had good sales from September to November\n",
    "#-We saw a huge drop of sales from november 2011 to december 2011.\n",
    "#On analysis we found that the sales data available only upto 9th december 2011."
   ]
  },
  {
   "cell_type": "code",
   "execution_count": 86,
   "metadata": {},
   "outputs": [],
   "source": [
    "new_df2 = new_df.dropna()"
   ]
  },
  {
   "cell_type": "code",
   "execution_count": 87,
   "metadata": {},
   "outputs": [
    {
     "data": {
      "text/plain": [
       "CustomerID     0\n",
       "InvoiceNo      0\n",
       "StockCode      0\n",
       "Quantity       0\n",
       "UnitPrice      0\n",
       "TotalAmount    0\n",
       "Description    0\n",
       "InvoiceDate    0\n",
       "Country        0\n",
       "Year           0\n",
       "Month          0\n",
       "dtype: int64"
      ]
     },
     "execution_count": 87,
     "metadata": {},
     "output_type": "execute_result"
    }
   ],
   "source": [
    "new_df2.isnull().sum()"
   ]
  },
  {
   "cell_type": "code",
   "execution_count": 88,
   "metadata": {},
   "outputs": [],
   "source": [
    "#Know the countries with more number of customers\n",
    "customers = new_df2.groupby('Country')['CustomerID'].count().sort_values(ascending = False)"
   ]
  },
  {
   "cell_type": "code",
   "execution_count": 90,
   "metadata": {},
   "outputs": [
    {
     "data": {
      "text/plain": [
       "Country\n",
       "United Kingdom    361878\n",
       "Germany             9495\n",
       "France              8491\n",
       "EIRE                7485\n",
       "Spain               2533\n",
       "Name: CustomerID, dtype: int64"
      ]
     },
     "execution_count": 90,
     "metadata": {},
     "output_type": "execute_result"
    }
   ],
   "source": [
    "customers.head()"
   ]
  },
  {
   "cell_type": "code",
   "execution_count": 92,
   "metadata": {},
   "outputs": [
    {
     "data": {
      "text/plain": [
       "<matplotlib.axes._subplots.AxesSubplot at 0xfdb4812780>"
      ]
     },
     "execution_count": 92,
     "metadata": {},
     "output_type": "execute_result"
    },
    {
     "data": {
      "image/png": "[encoded data removed]",
      "text/plain": [
       "<Figure size 432x288 with 1 Axes>"
      ]
     },
     "metadata": {
      "needs_background": "light"
     },
     "output_type": "display_data"
    }
   ],
   "source": [
    "#Top 5 countries with highest number of sales.\n",
    "customers[:5].plot(kind = 'bar', title = 'Most Customers for country')"
   ]
  },
  {
   "cell_type": "code",
   "execution_count": 93,
   "metadata": {},
   "outputs": [
    {
     "data": {
      "text/plain": [
       "<matplotlib.axes._subplots.AxesSubplot at 0xfdb63dde80>"
      ]
     },
     "execution_count": 93,
     "metadata": {},
     "output_type": "execute_result"
    },
    {
     "data": {
      "image/png": "[encoded data removed]",
      "text/plain": [
       "<Figure size 432x288 with 1 Axes>"
      ]
     },
     "metadata": {
      "needs_background": "light"
     },
     "output_type": "display_data"
    }
   ],
   "source": [
    "#Top 5 countries with least number of sales.\n",
    "customers[-5:].plot(kind = 'bar', title = 'Least Customers for country')"
   ]
  },
  {
   "cell_type": "code",
   "execution_count": null,
   "metadata": {},
   "outputs": [],
   "source": [
    "#Potential areas of improvement for the business\n",
    "#-Sales are high from September 2011 to November 2011.We could concentrate on improving the sales for other 8 months.\n",
    "#-Business have less customers in some of the countries like Brazil, Saudi Arabia and some more and\n",
    "# hence it has less number of sales in those countries.We could improve business by increasig the number of\n",
    "# customers and sales for those countries."
   ]
  },
  {
   "cell_type": "code",
   "execution_count": 96,
   "metadata": {},
   "outputs": [],
   "source": [
    "#Figuring the average sales of each products to know the demand of each\n",
    "avg_product_sales = new_df2.groupby(['StockCode','Description'])['Quantity','TotalAmount'].mean().sort_values(by = 'Quantity',ascending = False)"
   ]
  },
  {
   "cell_type": "code",
   "execution_count": 97,
   "metadata": {},
   "outputs": [
    {
     "data": {
      "text/html": [
       "<div>\n",
       "<style scoped>\n",
       "    .dataframe tbody tr th:only-of-type {\n",
       "        vertical-align: middle;\n",
       "    }\n",
       "\n",
       "    .dataframe tbody tr th {\n",
       "        vertical-align: top;\n",
       "    }\n",
       "\n",
       "    .dataframe thead th {\n",
       "        text-align: right;\n",
       "    }\n",
       "</style>\n",
       "<table border=\"1\" class=\"dataframe\">\n",
       "  <thead>\n",
       "    <tr style=\"text-align: right;\">\n",
       "      <th></th>\n",
       "      <th></th>\n",
       "      <th>Quantity</th>\n",
       "      <th>TotalAmount</th>\n",
       "    </tr>\n",
       "    <tr>\n",
       "      <th>StockCode</th>\n",
       "      <th>Description</th>\n",
       "      <th></th>\n",
       "      <th></th>\n",
       "    </tr>\n",
       "  </thead>\n",
       "  <tbody>\n",
       "    <tr>\n",
       "      <th>47556B</th>\n",
       "      <th>TEA TIME TEA TOWELS</th>\n",
       "      <td>1300.000000</td>\n",
       "      <td>3022.500000</td>\n",
       "    </tr>\n",
       "    <tr>\n",
       "      <th>84568</th>\n",
       "      <th>GIRLS ALPHABET IRON ON PATCHES</th>\n",
       "      <td>520.000000</td>\n",
       "      <td>97.200000</td>\n",
       "    </tr>\n",
       "    <tr>\n",
       "      <th>84826</th>\n",
       "      <th>ASSTD DESIGN 3D PAPER STICKERS</th>\n",
       "      <td>368.702703</td>\n",
       "      <td>9.145405</td>\n",
       "    </tr>\n",
       "    <tr>\n",
       "      <th>18007</th>\n",
       "      <th>ESSENTIAL BALM 3.5g TIN IN ENVELOPE</th>\n",
       "      <td>325.333333</td>\n",
       "      <td>21.320000</td>\n",
       "    </tr>\n",
       "    <tr>\n",
       "      <th>20914</th>\n",
       "      <th>SET/5 RED SPOTTY LID GLASS BOWLS</th>\n",
       "      <td>288.000000</td>\n",
       "      <td>734.400000</td>\n",
       "    </tr>\n",
       "  </tbody>\n",
       "</table>\n",
       "</div>"
      ],
      "text/plain": [
       "                                                  Quantity  TotalAmount\n",
       "StockCode Description                                                  \n",
       "47556B    TEA TIME TEA TOWELS                  1300.000000  3022.500000\n",
       "84568     GIRLS ALPHABET IRON ON PATCHES        520.000000    97.200000\n",
       "84826     ASSTD DESIGN 3D PAPER STICKERS        368.702703     9.145405\n",
       "18007     ESSENTIAL BALM 3.5g TIN IN ENVELOPE   325.333333    21.320000\n",
       "20914     SET/5 RED SPOTTY LID GLASS BOWLS      288.000000   734.400000"
      ]
     },
     "execution_count": 97,
     "metadata": {},
     "output_type": "execute_result"
    }
   ],
   "source": [
    "avg_product_sales.head()"
   ]
  },
  {
   "cell_type": "code",
   "execution_count": 98,
   "metadata": {},
   "outputs": [
    {
     "data": {
      "text/plain": [
       "<matplotlib.axes._subplots.AxesSubplot at 0xfdb654f048>"
      ]
     },
     "execution_count": 98,
     "metadata": {},
     "output_type": "execute_result"
    },
    {
     "data": {
      "image/png": "[encoded data removed]",
      "text/plain": [
       "<Figure size 432x288 with 1 Axes>"
      ]
     },
     "metadata": {
      "needs_background": "light"
     },
     "output_type": "display_data"
    }
   ],
   "source": [
    "#Top 5 products with highest sales in market.\n",
    "avg_product_sales[:5].plot(kind = 'bar')"
   ]
  },
  {
   "cell_type": "code",
   "execution_count": 155,
   "metadata": {},
   "outputs": [
    {
     "data": {
      "text/plain": [
       "Country    StockCode  Description                        \n",
       "Australia  15036      ASSORTED COLOURS SILK FAN              600.000000\n",
       "           20665      RED RETROSPOT PURSE                      6.000000\n",
       "           20675      BLUE POLKADOT BOWL                     108.000000\n",
       "           20676      RED RETROSPOT BOWL                     108.000000\n",
       "           20677      PINK POLKADOT BOWL                     108.000000\n",
       "           20685      DOORMAT RED RETROSPOT                   12.500000\n",
       "           20711      JUMBO BAG TOYS                         100.000000\n",
       "           20712      JUMBO BAG WOODLAND ANIMALS              10.000000\n",
       "           20713      JUMBO BAG OWLS                          10.000000\n",
       "           20717      STRAWBERRY SHOPPER BAG                  10.000000\n",
       "           20725      LUNCH BAG RED RETROSPOT                 31.111111\n",
       "           20726      LUNCH BAG WOODLAND                      45.000000\n",
       "           20727      LUNCH BAG  BLACK SKULL.                 35.000000\n",
       "           20728      LUNCH BAG CARS BLUE                     16.666667\n",
       "           20749      ASSORTED COLOUR MINI CASES               2.000000\n",
       "           20750      RED RETROSPOT MINI CASES                 2.000000\n",
       "           20837      FRENCH FLORAL CUSHION COVER             12.000000\n",
       "           20838      FRENCH LATTICE CUSHION COVER            12.000000\n",
       "           20840      FRENCH FLORAL CUSHION COVER             24.000000\n",
       "           20971      PINK BLUE FELT CRAFT TRINKET BOX        12.000000\n",
       "           20973      12 PENCIL SMALL TUBE WOODLAND          384.000000\n",
       "           20978      36 PENCILS TUBE SKULLS                 128.000000\n",
       "           20979      36 PENCILS TUBE RED RETROSPOT           76.800000\n",
       "           20983      12 PENCILS TALL TUBE RED RETROSPOT      12.000000\n",
       "           20984      12 PENCILS TALL TUBE POSY              126.000000\n",
       "           21056      DOCTOR'S BAG SOFT TOY                    3.000000\n",
       "           21058      PARTY INVITES WOODLAND                  68.000000\n",
       "           21068      VINTAGE BILLBOARD LOVE/HATE MUG         36.000000\n",
       "           21080      SET/20 RED RETROSPOT PAPER NAPKINS     128.000000\n",
       "           21084      SET/6 COLLAGE PAPER CUPS               240.000000\n",
       "           21086      SET/6 RED SPOTTY PAPER CUPS            148.000000\n",
       "           21090      SET/6 COLLAGE PAPER PLATES             240.000000\n",
       "           21094      SET/6 RED SPOTTY PAPER PLATES          132.000000\n",
       "           21115      ROSE CARAVAN DOORSTOP                   12.000000\n",
       "           21121      SET/10 RED POLKADOT PARTY CANDLES      288.000000\n",
       "           21137      BLACK RECORD COVER FRAME               192.000000\n",
       "           21164      HOME SWEET HOME METAL SIGN              28.000000\n",
       "           21179      NO JUNK MAIL METAL SIGN                 48.000000\n",
       "           21191      LARGE WHITE HONEYCOMB PAPER BELL        48.000000\n",
       "           21192      WHITE BELL HONEYCOMB PAPER              48.000000\n",
       "           21194      PINK  HONEYCOMB PAPER FAN               12.000000\n",
       "           21195      PINK  HONEYCOMB PAPER BALL              48.000000\n",
       "           21196      ROUND WHITE CONFETTI IN TUBE            24.000000\n",
       "           21197      MULTICOLOUR  CONFETTI IN TUBE           48.000000\n",
       "           21198      WHITE HEART CONFETTI IN TUBE            12.000000\n",
       "           21199      PINK  HEART CONFETTI IN TUBE            24.000000\n",
       "           21202      DOLLY HONEYCOMB GARLAND                 12.000000\n",
       "           21204      DAISIES  HONEYCOMB GARLAND              12.000000\n",
       "           21207      SKULL AND CROSSBONES  GARLAND           48.000000\n",
       "           21208      PASTEL COLOUR HONEYCOMB FAN             12.000000\n",
       "           21210      SET OF 72 RETROSPOT PAPER  DOILIES      96.000000\n",
       "           21212      PACK OF 72 RETROSPOT CAKE CASES        180.000000\n",
       "           21213      PACK OF 72 SKULL CAKE CASES             72.000000\n",
       "           21216      SET 3 RETROSPOT TEA,COFFEE,SUGAR        96.000000\n",
       "           21217      RED RETROSPOT ROUND CAKE TINS           55.666667\n",
       "           21218      RED SPOTTY BISCUIT TIN                 108.000000\n",
       "           21238      RED RETROSPOT CUP                       96.000000\n",
       "           21239      PINK  POLKADOT CUP                      96.000000\n",
       "           21240      BLUE POLKADOT CUP                       96.000000\n",
       "           21242      RED RETROSPOT PLATE                     66.666667\n",
       "Name: Quantity, dtype: float64"
      ]
     },
     "execution_count": 155,
     "metadata": {},
     "output_type": "execute_result"
    }
   ],
   "source": [
    "#Further analysis could be made to know additional business problems\n",
    "#Could check the total sales of each product knowing their demand in market \n",
    "#Could check the sales of product month wise to know the seasonality of product both individually and country wise\n",
    "#Could check the likeliness of demand of each product for each customers\n",
    "#Accordingly could focus on the market depending upon the type of customers and seasonal products it favours."
   ]
  }
 ],
 "metadata": {
  "kernelspec": {
   "display_name": "Python 3",
   "language": "python",
   "name": "python3"
  },
  "language_info": {
   "codemirror_mode": {
    "name": "ipython",
    "version": 3
   },
   "file_extension": ".py",
   "mimetype": "text/x-python",
   "name": "python",
   "nbconvert_exporter": "python",
   "pygments_lexer": "ipython3",
   "version": "3.7.3"
  }
 },
 "nbformat": 4,
 "nbformat_minor": 2
}
